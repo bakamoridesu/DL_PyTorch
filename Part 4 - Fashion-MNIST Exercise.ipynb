{
 "cells": [
  {
   "cell_type": "markdown",
   "metadata": {},
   "source": [
    "# Classifying Fashion-MNIST\n",
    "\n",
    "Now it's your turn to build a neural network. You'll be using the [Fashion-MNIST dataset](https://github.com/zalandoresearch/fashion-mnist), a drop-in replacement for the MNIST dataset. MNIST is actually quite trivial with neural networks where you can easily achieve better than 97% accuracy. Fashion-MNIST is a set of 28x28 greyscale images of clothes. It's more complex than MNIST, so it's a better representation of the actual performance of your network, and a better representation of datasets you'll use in the real world.\n",
    "\n",
    "<img src='assets/fashion-mnist-sprite.png' width=500px>\n",
    "\n",
    "In this notebook, you'll build your own neural network. For the most part, you could just copy and paste the code from Part 3, but you wouldn't be learning. It's important for you to write the code yourself and get it to work. Feel free to consult the previous notebook though as you work through this.\n",
    "\n",
    "First off, let's load the dataset through torchvision."
   ]
  },
  {
   "cell_type": "code",
   "execution_count": 1,
   "metadata": {},
   "outputs": [
    {
     "name": "stdout",
     "output_type": "stream",
     "text": [
      "Downloading http://fashion-mnist.s3-website.eu-central-1.amazonaws.com/train-images-idx3-ubyte.gz\n",
      "Downloading http://fashion-mnist.s3-website.eu-central-1.amazonaws.com/train-labels-idx1-ubyte.gz\n",
      "Downloading http://fashion-mnist.s3-website.eu-central-1.amazonaws.com/t10k-images-idx3-ubyte.gz\n",
      "Downloading http://fashion-mnist.s3-website.eu-central-1.amazonaws.com/t10k-labels-idx1-ubyte.gz\n",
      "Processing...\n",
      "Done!\n"
     ]
    }
   ],
   "source": [
    "import torch\n",
    "from torchvision import datasets, transforms\n",
    "import helper\n",
    "\n",
    "# Define a transform to normalize the data\n",
    "transform = transforms.Compose([transforms.ToTensor(),\n",
    "                                transforms.Normalize((0.5, 0.5, 0.5), (0.5, 0.5, 0.5))])\n",
    "# Download and load the training data\n",
    "trainset = datasets.FashionMNIST('F_MNIST_data/', download=True, train=True, transform=transform)\n",
    "trainloader = torch.utils.data.DataLoader(trainset, batch_size=64, shuffle=True)\n",
    "\n",
    "# Download and load the test data\n",
    "testset = datasets.FashionMNIST('F_MNIST_data/', download=True, train=False, transform=transform)\n",
    "testloader = torch.utils.data.DataLoader(testset, batch_size=64, shuffle=True)"
   ]
  },
  {
   "cell_type": "markdown",
   "metadata": {},
   "source": [
    "Here we can see one of the images."
   ]
  },
  {
   "cell_type": "code",
   "execution_count": 2,
   "metadata": {},
   "outputs": [
    {
     "data": {
      "image/png": "[encoded data removed]",
      "text/plain": [
       "<matplotlib.figure.Figure at 0x2012009c5f8>"
      ]
     },
     "metadata": {},
     "output_type": "display_data"
    }
   ],
   "source": [
    "image, label = next(iter(trainloader))\n",
    "helper.imshow(image[0,:]);"
   ]
  },
  {
   "cell_type": "markdown",
   "metadata": {},
   "source": [
    "With the data loaded, it's time to import the necessary packages."
   ]
  },
  {
   "cell_type": "code",
   "execution_count": 3,
   "metadata": {},
   "outputs": [],
   "source": [
    "%matplotlib inline\n",
    "%config InlineBackend.figure_format = 'retina'\n",
    "\n",
    "import matplotlib.pyplot as plt\n",
    "import numpy as np\n",
    "import time\n",
    "\n",
    "import torch\n",
    "from torch import nn\n",
    "from torch import optim\n",
    "import torch.nn.functional as F\n",
    "from torch.autograd import Variable\n",
    "from torchvision import datasets, transforms\n",
    "\n",
    "import helper"
   ]
  },
  {
   "cell_type": "markdown",
   "metadata": {},
   "source": [
    "## Building the network\n",
    "\n",
    "Here you should define your network. As with MNIST, each image is 28x28 which is a total of 784 pixels, and there are 10 classes. You should include at least one hidden layer. We suggest you use ReLU activations for the layers and to return the logits from the forward pass. It's up to you how many layers you add and the size of those layers."
   ]
  },
  {
   "cell_type": "code",
   "execution_count": 12,
   "metadata": {},
   "outputs": [],
   "source": [
    "# TODO: Define your network architecture here\n",
    "# TODO: Define your network architecture here\n",
    "class Network(nn.Module):\n",
    "    def __init__(self):\n",
    "        super().__init__()\n",
    "        self.fc1 = nn.Linear(784, 512)\n",
    "        self.fc2 = nn.Linear(512, 256)\n",
    "        self.fc3 = nn.Linear(256, 128)\n",
    "        self.fc4 = nn.Linear(128, 10)\n",
    "    \n",
    "    def forward(self, x):\n",
    "        x = self.fc1(x)\n",
    "        x = F.relu(x)\n",
    "        x = self.fc2(x)\n",
    "        x = F.relu(x)\n",
    "        x = self.fc3(x)\n",
    "        x = F.relu(x)\n",
    "        x = self.fc4(x)\n",
    "        return x\n",
    "    \n",
    "    def predict(self, x):\n",
    "        logits = self.forward(x)\n",
    "        return F.softmax(logits, dim=1)"
   ]
  },
  {
   "cell_type": "markdown",
   "metadata": {},
   "source": [
    "# Train the network\n",
    "\n",
    "Now you should create your network and train it. First you'll want to define [the criterion](http://pytorch.org/docs/master/nn.html#loss-functions) ( something like `nn.CrossEntropyLoss`) and [the optimizer](http://pytorch.org/docs/master/optim.html) (typically `optim.SGD` or `optim.Adam`).\n",
    "\n",
    "Then write the training code. Remember the training pass is a fairly straightforward process:\n",
    "\n",
    "* Make a forward pass through the network to get the logits \n",
    "* Use the logits to calculate the loss\n",
    "* Perform a backward pass through the network with `loss.backward()` to calculate the gradients\n",
    "* Take a step with the optimizer to update the weights\n",
    "\n",
    "By adjusting the hyperparameters (hidden units, learning rate, etc), you should be able to get the training loss below 0.4."
   ]
  },
  {
   "cell_type": "code",
   "execution_count": 13,
   "metadata": {},
   "outputs": [],
   "source": [
    "# TODO: Create the network, define the criterion and optimizer\n",
    "net = Network()\n",
    "criterion = nn.CrossEntropyLoss()\n",
    "optimizer = optim.Adam(net.parameters())"
   ]
  },
  {
   "cell_type": "code",
   "execution_count": 14,
   "metadata": {},
   "outputs": [
    {
     "name": "stderr",
     "output_type": "stream",
     "text": [
      "C:\\Users\\lobov\\Anaconda3\\envs\\tfgpu\\lib\\site-packages\\ipykernel_launcher.py:18: UserWarning: invalid index of a 0-dim tensor. This will be an error in PyTorch 0.5. Use tensor.item() to convert a 0-dim tensor to a Python number\n"
     ]
    },
    {
     "name": "stdout",
     "output_type": "stream",
     "text": [
      "Epoch: 1/10...  Loss: 1.0603\n",
      "Epoch: 1/10...  Loss: 0.6539\n",
      "Epoch: 1/10...  Loss: 0.5694\n",
      "Epoch: 1/10...  Loss: 0.5203\n",
      "Epoch: 1/10...  Loss: 0.5199\n",
      "Epoch: 1/10...  Loss: 0.4781\n",
      "Epoch: 1/10...  Loss: 0.4822\n",
      "Epoch: 1/10...  Loss: 0.4556\n",
      "Epoch: 1/10...  Loss: 0.4749\n",
      "Epoch: 1/10...  Loss: 0.4499\n",
      "Epoch: 1/10...  Loss: 0.4690\n",
      "Epoch: 1/10...  Loss: 0.4612\n",
      "Epoch: 1/10...  Loss: 0.4421\n",
      "Epoch: 1/10...  Loss: 0.4211\n",
      "Epoch: 1/10...  Loss: 0.4348\n",
      "Epoch: 1/10...  Loss: 0.4081\n",
      "Epoch: 1/10...  Loss: 0.4066\n",
      "Epoch: 1/10...  Loss: 0.4082\n",
      "Epoch: 2/10...  Loss: 0.0894\n",
      "Epoch: 2/10...  Loss: 0.3954\n",
      "Epoch: 2/10...  Loss: 0.3652\n",
      "Epoch: 2/10...  Loss: 0.3764\n",
      "Epoch: 2/10...  Loss: 0.3670\n",
      "Epoch: 2/10...  Loss: 0.4045\n",
      "Epoch: 2/10...  Loss: 0.3668\n",
      "Epoch: 2/10...  Loss: 0.3869\n",
      "Epoch: 2/10...  Loss: 0.3868\n",
      "Epoch: 2/10...  Loss: 0.3934\n",
      "Epoch: 2/10...  Loss: 0.3872\n",
      "Epoch: 2/10...  Loss: 0.3571\n",
      "Epoch: 2/10...  Loss: 0.3710\n",
      "Epoch: 2/10...  Loss: 0.3633\n",
      "Epoch: 2/10...  Loss: 0.3717\n",
      "Epoch: 2/10...  Loss: 0.3775\n",
      "Epoch: 2/10...  Loss: 0.3445\n",
      "Epoch: 2/10...  Loss: 0.3722\n",
      "Epoch: 2/10...  Loss: 0.3466\n",
      "Epoch: 3/10...  Loss: 0.1589\n",
      "Epoch: 3/10...  Loss: 0.3407\n",
      "Epoch: 3/10...  Loss: 0.3172\n",
      "Epoch: 3/10...  Loss: 0.3274\n",
      "Epoch: 3/10...  Loss: 0.3569\n",
      "Epoch: 3/10...  Loss: 0.3568\n",
      "Epoch: 3/10...  Loss: 0.3515\n",
      "Epoch: 3/10...  Loss: 0.3191\n",
      "Epoch: 3/10...  Loss: 0.3527\n",
      "Epoch: 3/10...  Loss: 0.3468\n",
      "Epoch: 3/10...  Loss: 0.3164\n",
      "Epoch: 3/10...  Loss: 0.3280\n",
      "Epoch: 3/10...  Loss: 0.3337\n",
      "Epoch: 3/10...  Loss: 0.3199\n",
      "Epoch: 3/10...  Loss: 0.3578\n",
      "Epoch: 3/10...  Loss: 0.3149\n",
      "Epoch: 3/10...  Loss: 0.3309\n",
      "Epoch: 3/10...  Loss: 0.3142\n",
      "Epoch: 3/10...  Loss: 0.3266\n",
      "Epoch: 4/10...  Loss: 0.2136\n",
      "Epoch: 4/10...  Loss: 0.3110\n",
      "Epoch: 4/10...  Loss: 0.3071\n",
      "Epoch: 4/10...  Loss: 0.3149\n",
      "Epoch: 4/10...  Loss: 0.3102\n",
      "Epoch: 4/10...  Loss: 0.3188\n",
      "Epoch: 4/10...  Loss: 0.3078\n",
      "Epoch: 4/10...  Loss: 0.3108\n",
      "Epoch: 4/10...  Loss: 0.3002\n",
      "Epoch: 4/10...  Loss: 0.3046\n",
      "Epoch: 4/10...  Loss: 0.2784\n",
      "Epoch: 4/10...  Loss: 0.3125\n",
      "Epoch: 4/10...  Loss: 0.3108\n",
      "Epoch: 4/10...  Loss: 0.3128\n",
      "Epoch: 4/10...  Loss: 0.2919\n",
      "Epoch: 4/10...  Loss: 0.3142\n",
      "Epoch: 4/10...  Loss: 0.2987\n",
      "Epoch: 4/10...  Loss: 0.3023\n",
      "Epoch: 4/10...  Loss: 0.3131\n",
      "Epoch: 5/10...  Loss: 0.2681\n",
      "Epoch: 5/10...  Loss: 0.2745\n",
      "Epoch: 5/10...  Loss: 0.2627\n",
      "Epoch: 5/10...  Loss: 0.2845\n",
      "Epoch: 5/10...  Loss: 0.2940\n",
      "Epoch: 5/10...  Loss: 0.2833\n",
      "Epoch: 5/10...  Loss: 0.3015\n",
      "Epoch: 5/10...  Loss: 0.2916\n",
      "Epoch: 5/10...  Loss: 0.2909\n",
      "Epoch: 5/10...  Loss: 0.2946\n",
      "Epoch: 5/10...  Loss: 0.3030\n",
      "Epoch: 5/10...  Loss: 0.2784\n",
      "Epoch: 5/10...  Loss: 0.3164\n",
      "Epoch: 5/10...  Loss: 0.2866\n",
      "Epoch: 5/10...  Loss: 0.2925\n",
      "Epoch: 5/10...  Loss: 0.2791\n",
      "Epoch: 5/10...  Loss: 0.2811\n",
      "Epoch: 5/10...  Loss: 0.2979\n",
      "Epoch: 6/10...  Loss: 0.0505\n",
      "Epoch: 6/10...  Loss: 0.2651\n",
      "Epoch: 6/10...  Loss: 0.2970\n",
      "Epoch: 6/10...  Loss: 0.2664\n",
      "Epoch: 6/10...  Loss: 0.2673\n",
      "Epoch: 6/10...  Loss: 0.2854\n",
      "Epoch: 6/10...  Loss: 0.2743\n",
      "Epoch: 6/10...  Loss: 0.2724\n",
      "Epoch: 6/10...  Loss: 0.2848\n",
      "Epoch: 6/10...  Loss: 0.2634\n",
      "Epoch: 6/10...  Loss: 0.2563\n",
      "Epoch: 6/10...  Loss: 0.2933\n",
      "Epoch: 6/10...  Loss: 0.2722\n",
      "Epoch: 6/10...  Loss: 0.2802\n",
      "Epoch: 6/10...  Loss: 0.2558\n",
      "Epoch: 6/10...  Loss: 0.2679\n",
      "Epoch: 6/10...  Loss: 0.2640\n",
      "Epoch: 6/10...  Loss: 0.2645\n",
      "Epoch: 6/10...  Loss: 0.2695\n",
      "Epoch: 7/10...  Loss: 0.1225\n",
      "Epoch: 7/10...  Loss: 0.2471\n",
      "Epoch: 7/10...  Loss: 0.2639\n",
      "Epoch: 7/10...  Loss: 0.2437\n",
      "Epoch: 7/10...  Loss: 0.2275\n",
      "Epoch: 7/10...  Loss: 0.2823\n",
      "Epoch: 7/10...  Loss: 0.2405\n",
      "Epoch: 7/10...  Loss: 0.2430\n",
      "Epoch: 7/10...  Loss: 0.2471\n",
      "Epoch: 7/10...  Loss: 0.2327\n",
      "Epoch: 7/10...  Loss: 0.2535\n",
      "Epoch: 7/10...  Loss: 0.2532\n",
      "Epoch: 7/10...  Loss: 0.2588\n",
      "Epoch: 7/10...  Loss: 0.2702\n",
      "Epoch: 7/10...  Loss: 0.2483\n",
      "Epoch: 7/10...  Loss: 0.2417\n",
      "Epoch: 7/10...  Loss: 0.2727\n",
      "Epoch: 7/10...  Loss: 0.2656\n",
      "Epoch: 7/10...  Loss: 0.2567\n",
      "Epoch: 8/10...  Loss: 0.1525\n",
      "Epoch: 8/10...  Loss: 0.2226\n",
      "Epoch: 8/10...  Loss: 0.2670\n",
      "Epoch: 8/10...  Loss: 0.2380\n",
      "Epoch: 8/10...  Loss: 0.2420\n",
      "Epoch: 8/10...  Loss: 0.2321\n",
      "Epoch: 8/10...  Loss: 0.2401\n",
      "Epoch: 8/10...  Loss: 0.2459\n",
      "Epoch: 8/10...  Loss: 0.2574\n",
      "Epoch: 8/10...  Loss: 0.2570\n",
      "Epoch: 8/10...  Loss: 0.2496\n",
      "Epoch: 8/10...  Loss: 0.2436\n",
      "Epoch: 8/10...  Loss: 0.2547\n",
      "Epoch: 8/10...  Loss: 0.2155\n",
      "Epoch: 8/10...  Loss: 0.2434\n",
      "Epoch: 8/10...  Loss: 0.2387\n",
      "Epoch: 8/10...  Loss: 0.2166\n",
      "Epoch: 8/10...  Loss: 0.2544\n",
      "Epoch: 8/10...  Loss: 0.2613\n",
      "Epoch: 9/10...  Loss: 0.2098\n",
      "Epoch: 9/10...  Loss: 0.2132\n",
      "Epoch: 9/10...  Loss: 0.2368\n",
      "Epoch: 9/10...  Loss: 0.2292\n",
      "Epoch: 9/10...  Loss: 0.2252\n",
      "Epoch: 9/10...  Loss: 0.2308\n",
      "Epoch: 9/10...  Loss: 0.2252\n",
      "Epoch: 9/10...  Loss: 0.2395\n",
      "Epoch: 9/10...  Loss: 0.2200\n",
      "Epoch: 9/10...  Loss: 0.2275\n",
      "Epoch: 9/10...  Loss: 0.2434\n",
      "Epoch: 9/10...  Loss: 0.2418\n",
      "Epoch: 9/10...  Loss: 0.2262\n",
      "Epoch: 9/10...  Loss: 0.2415\n",
      "Epoch: 9/10...  Loss: 0.2307\n",
      "Epoch: 9/10...  Loss: 0.2321\n",
      "Epoch: 9/10...  Loss: 0.2223\n",
      "Epoch: 9/10...  Loss: 0.2393\n",
      "Epoch: 10/10...  Loss: 0.0359\n",
      "Epoch: 10/10...  Loss: 0.2050\n",
      "Epoch: 10/10...  Loss: 0.2011\n",
      "Epoch: 10/10...  Loss: 0.2087\n",
      "Epoch: 10/10...  Loss: 0.2212\n",
      "Epoch: 10/10...  Loss: 0.2119\n",
      "Epoch: 10/10...  Loss: 0.2074\n",
      "Epoch: 10/10...  Loss: 0.2196\n",
      "Epoch: 10/10...  Loss: 0.2383\n",
      "Epoch: 10/10...  Loss: 0.2163\n",
      "Epoch: 10/10...  Loss: 0.2132\n",
      "Epoch: 10/10...  Loss: 0.1890\n",
      "Epoch: 10/10...  Loss: 0.2304\n",
      "Epoch: 10/10...  Loss: 0.2400\n",
      "Epoch: 10/10...  Loss: 0.2146\n",
      "Epoch: 10/10...  Loss: 0.2246\n",
      "Epoch: 10/10...  Loss: 0.2024\n",
      "Epoch: 10/10...  Loss: 0.2190\n",
      "Epoch: 10/10...  Loss: 0.2374\n"
     ]
    }
   ],
   "source": [
    "# TODO: Train the network here\n",
    "epochs = 10\n",
    "print_every = 50\n",
    "steps = 0\n",
    "for i in range(epochs):\n",
    "    running_loss = 0\n",
    "    for images, labels in iter(trainloader):\n",
    "        steps += 1\n",
    "        images.resize_(images.size()[0], 784)\n",
    "        inputs, targets = Variable(images), Variable(labels)\n",
    "        optimizer.zero_grad()\n",
    "\n",
    "        output = net.forward(inputs)\n",
    "        loss = criterion(output, targets)\n",
    "        loss.backward()\n",
    "        optimizer.step()\n",
    "        \n",
    "        running_loss += loss.data[0]\n",
    "        if steps%print_every ==0:\n",
    "            print(\"Epoch: {}/{}... \".format(i+1, epochs),\n",
    "                  \"Loss: {:.4f}\".format(running_loss/print_every))\n",
    "            running_loss = 0"
   ]
  },
  {
   "cell_type": "code",
   "execution_count": 16,
   "metadata": {},
   "outputs": [
    {
     "data": {
      "image/png": "[encoded data removed]",
      "text/plain": [
       "<matplotlib.figure.Figure at 0x2012e2c2198>"
      ]
     },
     "metadata": {
      "image/png": {
       "height": 197,
       "width": 370
      }
     },
     "output_type": "display_data"
    }
   ],
   "source": [
    "# Test out your network!\n",
    "\n",
    "dataiter = iter(testloader)\n",
    "images, labels = dataiter.next()\n",
    "img = images[0]\n",
    "# Convert 2D image to 1D vector\n",
    "img = img.resize_(1, 784)\n",
    "\n",
    "# TODO: Calculate the class probabilities (softmax) for img\n",
    "ps = net.predict(img)\n",
    "\n",
    "# Plot the image and probabilities\n",
    "helper.view_classify(img.resize_(1, 28, 28), ps)"
   ]
  },
  {
   "cell_type": "code",
   "execution_count": 17,
   "metadata": {},
   "outputs": [
    {
     "data": {
      "text/plain": [
       "0"
      ]
     },
     "execution_count": 17,
     "metadata": {},
     "output_type": "execute_result"
    }
   ],
   "source": [
    "torch.cuda.current_device()"
   ]
  },
  {
   "cell_type": "code",
   "execution_count": 19,
   "metadata": {},
   "outputs": [
    {
     "data": {
      "text/plain": [
       "'GeForce GTX 1070'"
      ]
     },
     "execution_count": 19,
     "metadata": {},
     "output_type": "execute_result"
    }
   ],
   "source": [
    "torch.cuda.get_device_name(0)"
   ]
  },
  {
   "cell_type": "markdown",
   "metadata": {},
   "source": [
    "Now that your network is trained, you'll want to save it to disk so you can load it later instead of training it again. Obviously, it's impractical to train a network every time you need one. In practice, you'll train it once, save the model, then reload it for further training or making predictions. In the next part, I'll show you how to save and load trained models."
   ]
  }
 ],
 "metadata": {
  "kernelspec": {
   "display_name": "Python 3",
   "language": "python",
   "name": "python3"
  },
  "language_info": {
   "codemirror_mode": {
    "name": "ipython",
    "version": 3
   },
   "file_extension": ".py",
   "mimetype": "text/x-python",
   "name": "python",
   "nbconvert_exporter": "python",
   "pygments_lexer": "ipython3",
   "version": "3.5.4"
  }
 },
 "nbformat": 4,
 "nbformat_minor": 2
}
